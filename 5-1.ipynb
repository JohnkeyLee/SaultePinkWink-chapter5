{
 "cells": [
  {
   "cell_type": "code",
   "execution_count": null,
   "metadata": {},
   "outputs": [],
   "source": [
    "import pandas as pd\n",
    "import numpy as np\n",
    "\n",
    "import platform\n",
    "import matplotlib.pyplot as plt\n",
    "\n",
    "%matplotlib inline\n",
    "\n",
    "import platform\n",
    "\n",
    "from matplotlib import font_manager, rc\n",
    "plt.rcParams['axes.unicode_minus'] = False\n",
    "\n",
    "if platform.system() == 'Darwin':\n",
    "    rc('font', family='AppleGothic')\n",
    "elif platform.system() == 'Windows':\n",
    "    path = \"c:/Windows/Fonts/malgun.ttf\"\n",
    "    font_name = font_manager.FontProperties(fname=path).get_name()\n",
    "    rc('font', family=font_name)\n",
    "else:\n",
    "    print('Unknown system... sorry~~~~')\n",
    "#### The above code is to set up the font and validate the KOREAN\n",
    "\n",
    "plt.rcParams['axes.unicode_minus'] = False\n",
    "\n",
    "import folium\n",
    "import json\n",
    "import warnings\n",
    "warnings.simplefilter(action='ignore', category=FutureWarning)"
   ]
  },
  {
   "cell_type": "code",
   "execution_count": null,
   "metadata": {},
   "outputs": [],
   "source": [
    "# This is to call the excel file and read by skipping the first row\n",
    "population = pd.read_excel('D:\\\\OneDrive-Jongki\\\\OneDrive - Illinois Institute of Technology\\\\Jongki-study\\\\05_Manual\\\\17_Python\\\\DataScience\\\\data\\\\05. population_raw_data.xlsx', header=1)\n",
    "# population = pd.read_excel('D:\\\\OneDrive - Illinois Institute of Technology\\\\Jongki-study\\\\05_Manual\\\\17_Python\\\\DataScience\\\\data\\\\05. population_raw_data.xlsx', header=1)\n",
    "# '.fllna' is to fill NA/NaN values using the specified method.\n",
    "# In 'method', you can fill values forward ('pad' or 'ffill') OR fill values backward ('bfill' or 'backfill') \n",
    "# With time series data, using ('pad' or 'ffill') is extremely common so that the “last known value” is available at every time point.\n",
    "population.fillna(method='pad', inplace=True)\n",
    "\n",
    "population.rename(columns = {'행정구역(동읍면)별(1)':'Province', '행정구역(동읍면)별(2)':'City-level', '계':'Population'}, inplace=True)\n",
    "\n",
    "# This is to remove the data in '소계', which is in 'City-level'\n",
    "population = population[(population['City-level'] != '소계')]\n",
    "\n",
    "print(population)"
   ]
  },
  {
   "cell_type": "code",
   "execution_count": null,
   "metadata": {},
   "outputs": [],
   "source": [
    "# This is to avoid a warning from a happening when you copy something \n",
    "population.is_copy = False\n",
    "\n",
    "population.rename(columns = {'항목':'Category'}, inplace=True)\n",
    "\n",
    "# This is unllike to the previous IF syntax\n",
    "# 'loc' is like go there, locator, get into there In other words, it is to access a group of rows and columns by label(s) or a boolean array. \n",
    "# Get into 'column' column and if you see 'something' in 'column', change it to 'this'\n",
    "# Ex) data.loc[data['column'] == 'something', 'column'] = 'this'\n",
    "population.loc[population['Category'] == '총인구수 (명)', 'Category'] = 'Total'\n",
    "population.loc[population['Category'] == '남자인구수 (명)', 'Category'] = 'Male'\n",
    "population.loc[population['Category'] == '여자인구수 (명)', 'Category'] = 'Female'\n",
    "\n",
    "print(population)"
   ]
  },
  {
   "cell_type": "code",
   "execution_count": null,
   "metadata": {},
   "outputs": [],
   "source": [
    "# This is to merge and reorganize the data\n",
    "population['Under 39'] = population['20 - 24세'] + population['25 - 29세'] + population['30 - 34세'] + population['35 - 39세']\n",
    "population['Over 65'] = population['65 - 69세'] + population['70 - 74세'] + population['75 - 79세'] + population['80 - 84세'] + population['85 - 89세'] + population['90 - 94세'] + population['95 - 99세'] + population['100+']\n",
    "\n",
    "print(population)"
   ]
  },
  {
   "cell_type": "code",
   "execution_count": null,
   "metadata": {},
   "outputs": [],
   "source": [
    "# This is to reorganize by using '.pivot_table'\n",
    "# The indecies are 'Province' and 'City-level' and the columns divided into each 'Category'\n",
    "# The values we want to pull up are 'Population', 'Under 39', 'Over 65'\n",
    "# Thus, the column side has two titles: Big one -> 'Population', 'Under 39', 'Over 65' and the small one -> 'Female', 'Male', 'Total'\n",
    "pop = pd.pivot_table(population, index=['Province', 'City-level'], columns=['Category'], values=['Population', 'Under 39', 'Over 65'])\n",
    "\n",
    "print(pop)"
   ]
  },
  {
   "cell_type": "code",
   "execution_count": null,
   "metadata": {},
   "outputs": [],
   "source": [
    "# This is to get 'Shrunk rate' \n",
    "# The below equation is the definition of the district the popluation gets shrunk\n",
    "pop['Shrunk rate'] = pop['Under 39', 'Female'] / (pop['Over 65', 'Total'] / 2)\n",
    "print(pop)"
   ]
  },
  {
   "cell_type": "code",
   "execution_count": null,
   "metadata": {},
   "outputs": [],
   "source": [
    "# And this to screen whether a district in a population shrunk\n",
    "pop['Danger in shrunk'] = pop['Shrunk rate'] < 1.0\n",
    "print(pop)"
   ]
  },
  {
   "cell_type": "code",
   "execution_count": null,
   "metadata": {},
   "outputs": [],
   "source": [
    "# In 'Danger in shrunk' and if it is 'True', return the index in the level second\n",
    "# '.index.get_level_values(n)' is to return an Index of values for requested level\n",
    "# We have a multiple index ('Province' which is corresponding to '0' and 'City-level' has '1')\n",
    "print(pop[pop['Danger in shrunk']==True].index.get_level_values(1))"
   ]
  },
  {
   "cell_type": "code",
   "execution_count": null,
   "metadata": {},
   "outputs": [],
   "source": [
    "# This is to reset index that is a multiple index, but now each data has a dual index (no-hierarchy)\n",
    "pop.reset_index(inplace=True)\n",
    "print(pop)"
   ]
  },
  {
   "cell_type": "code",
   "execution_count": null,
   "metadata": {},
   "outputs": [],
   "source": [
    "# This is to merge the multiple index in the column side\n",
    "tmp_coloumns = [pop.columns.get_level_values(0)[n] + pop.columns.get_level_values(1)[n]\n",
    "                for n in range (0,len(pop.columns.get_level_values(0)))]\n",
    "# Work in 'tmp_' and infuse to 'pop'\n",
    "pop.columns = tmp_coloumns\n",
    " \n",
    "print(pop)"
   ]
  },
  {
   "cell_type": "code",
   "execution_count": null,
   "metadata": {},
   "outputs": [],
   "source": [
    "print(pop.info())"
   ]
  },
  {
   "cell_type": "code",
   "execution_count": null,
   "metadata": {},
   "outputs": [],
   "source": [
    "print(pop['City-level'].unique())"
   ]
  },
  {
   "cell_type": "code",
   "execution_count": null,
   "metadata": {},
   "outputs": [],
   "source": [
    "# When we check the components, they show some confusing point due to the hierarchy of the division of the province  \n",
    "# Also, there is some exception\n",
    "# Thus, we need to re-order them to fit into the map (json)\n",
    "# Rule: '특별시' + '구', '도' + '시'\n",
    "city_name = [None] * len(pop)\n",
    "\n",
    "tmp_gu_dict = {'수원':['장안구', '권선구', '팔달구', '영통구'], \n",
    "                       '성남':['수정구', '중원구', '분당구'], \n",
    "                       '안양':['만안구', '동안구'], \n",
    "                       '안산':['상록구', '단원구'], \n",
    "                       '고양':['덕양구', '일산동구', '일산서구'], \n",
    "                       '용인':['처인구', '기흥구', '수지구'], \n",
    "                       '청주':['상당구', '서원구', '흥덕구', '청원구'], \n",
    "                       '천안':['동남구', '서북구'], \n",
    "                       '전주':['완산구', '덕진구'], \n",
    "                       '포항':['남구', '북구'], \n",
    "                       '창원':['의창구', '성산구', '진해구', '마산합포구', '마산회원구'], \n",
    "                       '부천':['오정구', '원미구', '소사구']}\n",
    "\n",
    "for n in pop.index:\n",
    "    # If a province is not in '광역시', '특별시', '자치시', \n",
    "    if pop['Province'][n][-3:] not in ['광역시', '특별시', '자치시']:\n",
    "        # This loop is to avoid a potential problem in '고성' \n",
    "        if pop['City-level'][n][:-1]=='고성' and pop['Province'][n]=='강원도':\n",
    "            city_name[n] = '고성(강원)'\n",
    "        elif pop['City-level'][n][:-1]=='고성' and pop['Province'][n]=='경상남도':\n",
    "            city_name[n] = '고성(경남)'\n",
    "        # This is to cut '시', '군' \n",
    "        # Ex) '수원시' -> '수원'\n",
    "        else: city_name[n] = pop['City-level'][n][:-1]\n",
    "        \n",
    "        for keys, values in tmp_gu_dict.items():\n",
    "            if pop['City-level'][n] in values:\n",
    "                if len(pop['City-level'][n]) == 2:\n",
    "                    city_name[n] = keys + ' ' + pop['City-level'][n]\n",
    "                elif pop['City-level'][n] in ['마산합포구', '마산회원구']:\n",
    "                    city_name[n] = keys + ' ' + pop['City-level'][n][2:-1]\n",
    "                else: city_name[n] = keys + ' ' + pop['City-level'][n][:-1]\n",
    "    # This is the exception (too long...)\n",
    "    elif pop['Province'][n] == '세종특별자치시':\n",
    "        city_name[n] = '세종'\n",
    "    # This is to cut the first two words in 'Province'  and have a space and then add 'City-level'\n",
    "    else: \n",
    "        # When 'City-level' has only two words\n",
    "        if len(pop['City-level'][n]) == 2:\n",
    "            city_name[n] = pop['Province'][n][:2] + ' ' + pop['City-level'][n]\n",
    "        # What if 'City-level' is not two words\n",
    "        else: city_name[n] = pop['Province'][n][:2] + ' ' + pop['City-level'][n][:-1]"
   ]
  },
  {
   "cell_type": "code",
   "execution_count": null,
   "metadata": {},
   "outputs": [],
   "source": [
    "# This is to designate the 'ID' as 'city_name'\n",
    "pop['ID'] = city_name"
   ]
  },
  {
   "cell_type": "code",
   "execution_count": null,
   "metadata": {},
   "outputs": [],
   "source": [
    "# This is to delete unnecessary parts in this researcj\n",
    "del pop['Under 39Male']\n",
    "del pop['Over 65Male']\n",
    "del pop['Over 65Female']\n",
    "\n",
    "print(pop)"
   ]
  },
  {
   "cell_type": "code",
   "execution_count": null,
   "metadata": {},
   "outputs": [],
   "source": [
    "# This is based on PinkWink's excel file which shows the location of each district and each one has around 100 k of population\n",
    "draw_korea_raw = pd.read_excel('D:\\\\OneDrive-Jongki\\\\OneDrive - Illinois Institute of Technology\\\\Jongki-study\\\\05_Manual\\\\17_Python\\\\DataScience\\\\data\\\\05. draw_korea_raw.xlsx')\n",
    "# draw_korea_raw = pd.read_excel('D:\\\\OneDrive - Illinois Institute of Technology\\\\Jongki-study\\\\05_Manual\\\\17_Python\\\\DataScience\\\\data\\\\05. draw_korea_raw.xlsx')\n",
    "\n",
    "print(draw_korea_raw)"
   ]
  },
  {
   "cell_type": "code",
   "execution_count": null,
   "metadata": {},
   "outputs": [],
   "source": [
    "# This is to re-structure into 2-D\n",
    "draw_korea_raw_stacked = pd.DataFrame(draw_korea_raw.stack())\n",
    "# This is to reset the index\n",
    "draw_korea_raw_stacked.reset_index(inplace=True)\n",
    "draw_korea_raw_stacked.rename(columns={'level_0':'y', 'level_1':'x', 0:'ID'}, inplace=True)\n",
    "\n",
    "print(draw_korea_raw_stacked)"
   ]
  },
  {
   "cell_type": "code",
   "execution_count": null,
   "metadata": {},
   "outputs": [],
   "source": [
    "draw_korea = draw_korea_raw_stacked"
   ]
  },
  {
   "cell_type": "code",
   "execution_count": null,
   "metadata": {},
   "outputs": [],
   "source": [
    "BORDER_LINES = [\n",
    "    [(5, 1), (5,2), (7,2), (7,3), (11,3), (11,0)], # 인천\n",
    "    [(5,4), (5,5), (2,5), (2,7), (4,7), (4,9), (7,9), \n",
    "     (7,7), (9,7), (9,5), (10,5), (10,4), (5,4)], # 서울\n",
    "    [(1,7), (1,8), (3,8), (3,10), (10,10), (10,7), \n",
    "     (12,7), (12,6), (11,6), (11,5), (12, 5), (12,4), \n",
    "     (11,4), (11,3)], # 경기도\n",
    "    [(8,10), (8,11), (6,11), (6,12)], # 강원도\n",
    "    [(12,5), (13,5), (13,4), (14,4), (14,5), (15,5), \n",
    "     (15,4), (16,4), (16,2)], # 충청북도\n",
    "    [(16,4), (17,4), (17,5), (16,5), (16,6), (19,6), \n",
    "     (19,5), (20,5), (20,4), (21,4), (21,3), (19,3), (19,1)], # 전라북도\n",
    "    [(13,5), (13,6), (16,6)], # 대전시\n",
    "    [(13,5), (14,5)], #세종시\n",
    "    [(21,2), (21,3), (22,3), (22,4), (24,4), (24,2), (21,2)], #광주\n",
    "    [(20,5), (21,5), (21,6), (23,6)], #전라남도\n",
    "    [(10,8), (12,8), (12,9), (14,9), (14,8), (16,8), (16,6)], #충청북도\n",
    "    [(14,9), (14,11), (14,12), (13,12), (13,13)], #경상북도\n",
    "    [(15,8), (17,8), (17,10), (16,10), (16,11), (14,11)], #대구\n",
    "    [(17,9), (18,9), (18,8), (19,8), (19,9), (20,9), (20,10), (21,10)], #부산\n",
    "    [(16,11), (16,13)], #울산\n",
    "#     [(9,14), (9,15)], \n",
    "    [(27,5), (27,6), (25,6)],\n",
    "]"
   ]
  },
  {
   "cell_type": "code",
   "execution_count": null,
   "metadata": {},
   "outputs": [],
   "source": [
    "plt.figure(figsize=(8, 11))\n",
    "\n",
    "# 지역 이름 표시\n",
    "for idx, row in draw_korea.iterrows():\n",
    "    \n",
    "    # 광역시는 구 이름이 겹치는 경우가 많아서 시단위 이름도 같이 표시한다. \n",
    "    # (중구, 서구)\n",
    "    if len(row['ID'].split())==2:\n",
    "        dispname = '{}\\n{}'.format(row['ID'].split()[0], row['ID'].split()[1])\n",
    "    elif row['ID'][:2]=='고성':\n",
    "        dispname = '고성'\n",
    "    else:\n",
    "        dispname = row['ID']\n",
    "\n",
    "    # 서대문구, 서귀포시 같이 이름이 3자 이상인 경우에 작은 글자로 표시한다.\n",
    "    if len(dispname.splitlines()[-1]) >= 3:\n",
    "        fontsize, linespacing = 9.5, 1.5\n",
    "    else:\n",
    "        fontsize, linespacing = 11, 1.2\n",
    "\n",
    "    plt.annotate(dispname, (row['x']+0.5, row['y']+0.5), weight='bold', fontsize=fontsize, ha='center', va='center', linespacing=linespacing)\n",
    "    \n",
    "# 시도 경계 그린다.\n",
    "for path in BORDER_LINES:\n",
    "    ys, xs = zip(*path)\n",
    "    plt.plot(xs, ys, c='black', lw=1.5)\n",
    "\n",
    "plt.gca().invert_yaxis()\n",
    "#plt.gca().set_aspect(1)\n",
    "\n",
    "plt.axis('off')\n",
    "\n",
    "plt.tight_layout()\n",
    "plt.show()"
   ]
  },
  {
   "cell_type": "code",
   "execution_count": null,
   "metadata": {},
   "outputs": [],
   "source": [
    "print(pop['ID'].unique())"
   ]
  },
  {
   "cell_type": "code",
   "execution_count": null,
   "metadata": {},
   "outputs": [],
   "source": [
    "# This is to define the 'drawkorea'\n",
    "# 'gamma' is a parameter used in image processing to adjust the brightness and contrast of an image\n",
    "def drawKorea(targetData, blockedMap, cmapname):\n",
    "    gamma = 0.75\n",
    "    \n",
    "    # This is to set the 'whitlablemin' which shows you the whited zone when it is greater than 'whitelabemin'\n",
    "    # Otherwise, it shows the blaked area\n",
    "    # The equation is to set a threshold\n",
    "    whitelabelmin = (max(blockedMap[targetData]) - min(blockedMap[targetData]))*0.25 + min(blockedMap[targetData])\n",
    "\n",
    "    datalabel = targetData\n",
    "\n",
    "    vmin = min(blockedMap[targetData])\n",
    "    vmax = max(blockedMap[targetData])\n",
    "\n",
    "    mapdata = blockedMap.pivot_table(index='y', columns='x', values=targetData)\n",
    "    masked_mapdata = np.ma.masked_where(np.isnan(mapdata), mapdata)\n",
    "    \n",
    "    plt.figure(figsize=(9, 11))\n",
    "    plt.pcolor(masked_mapdata, vmin=vmin, vmax=vmax, cmap=cmapname, edgecolor='#aaaaaa', linewidth=0.5)\n",
    "\n",
    "    # 지역 이름 표시\n",
    "    for idx, row in blockedMap.iterrows():\n",
    "        # 광역시는 구 이름이 겹치는 경우가 많아서 시단위 이름도 같이 표시한다. \n",
    "        #(중구, 서구)\n",
    "        if len(row['ID'].split())==2:\n",
    "            # This is to divide the name as two lines \n",
    "            dispname = '{}\\n{}'.format(row['ID'].split()[0], row['ID'].split()[1])\n",
    "        elif row['ID'][:2]=='고성':\n",
    "            dispname = '고성'\n",
    "        else:\n",
    "            dispname = row['ID']\n",
    "\n",
    "        # 서대문구, 서귀포시 같이 이름이 3자 이상인 경우에 작은 글자로 표시한다.\n",
    "        if len(dispname.splitlines()[-1]) >= 3:\n",
    "            fontsize, linespacing = 10.0, 1.1\n",
    "        else:\n",
    "            fontsize, linespacing = 11, 1\n",
    "\n",
    "        annocolor = 'white' if row[targetData] > whitelabelmin else 'black'\n",
    "        plt.annotate(dispname, (row['x']+0.5, row['y']+0.5), weight='bold', fontsize=fontsize, ha='center', va='center', color=annocolor, linespacing=linespacing)\n",
    "\n",
    "    # 시도 경계 그린다.\n",
    "    for path in BORDER_LINES:\n",
    "        ys, xs = zip(*path)\n",
    "        plt.plot(xs, ys, c='black', lw=2)\n",
    "\n",
    "    plt.gca().invert_yaxis()\n",
    "\n",
    "    plt.axis('off')\n",
    "\n",
    "    cb = plt.colorbar(shrink=.1, aspect=10)\n",
    "    cb.set_label(datalabel)\n",
    "\n",
    "    plt.tight_layout()\n",
    "    plt.show()"
   ]
  },
  {
   "cell_type": "code",
   "execution_count": null,
   "metadata": {},
   "outputs": [],
   "source": [
    "print(draw_korea['ID'].unique())"
   ]
  },
  {
   "cell_type": "code",
   "execution_count": null,
   "metadata": {},
   "outputs": [],
   "source": [
    "# This process is to remove a data set corresponding a 'ID' by comparing to 'ID' in 'draw_korea'\n",
    "tmp_list = list(set(pop['ID'].unique()) - set(draw_korea['ID'].unique()))\n",
    "\n",
    "# If there is a 'ID' which is not in 'draw_korea', it is deleted by using '.drop'\n",
    "for tmp in tmp_list:\n",
    "    pop = pop.drop(pop[pop['ID']==tmp].index)\n",
    "\n",
    "print(set(pop['ID'].unique()) - set(draw_korea['ID'].unique()))\n",
    "# set()"
   ]
  },
  {
   "cell_type": "code",
   "execution_count": null,
   "metadata": {},
   "outputs": [],
   "source": [
    "# This is to merge 'pop' and 'draw_korea' and the merge point is ['ID']\n",
    "# If you pick 'right' in 'how', it will be merged and re-ordered based on 'draw_korea'\n",
    "pop = pd.merge(pop, draw_korea, how='left', on=['ID'])\n",
    "\n",
    "print(pop)"
   ]
  },
  {
   "cell_type": "code",
   "execution_count": null,
   "metadata": {},
   "outputs": [],
   "source": [
    "# This is to re-order the data set: 'y' goes 'index', 'x' goes 'columns', and the desplayed data is 'PopulationTotal'\n",
    "mapdata = pop.pivot_table(index='y', columns='x', values='PopulationTotal')\n",
    "\n",
    "print(mapdata)"
   ]
  },
  {
   "cell_type": "code",
   "execution_count": null,
   "metadata": {},
   "outputs": [],
   "source": [
    "# This is to delete 'NaN' values\n",
    "# E.g., \"ma.masked_where(condition, a)\" -> Mask an array where a 'condition' is met. Return 'a' as an array masked where condition is True. Any masked values of a or condition are also masked in the output.\n",
    "# The default boolean condition is 'True'\n",
    "# 'isnan' returns 'True' when the data point has 'NaN'\n",
    "masked_mapdata = np.ma.masked_where(np.isnan(mapdata), mapdata)\n",
    "print(masked_mapdata)"
   ]
  },
  {
   "cell_type": "code",
   "execution_count": null,
   "metadata": {},
   "outputs": [],
   "source": [
    "# This is to define the 'drawkorea'\n",
    "# 'gamma' is a parameter used in image processing to adjust the brightness and contrast of an image\n",
    "def drawKorea(targetData, blockedMap, cmapname):\n",
    "    gamma = 0.75\n",
    "    \n",
    "    # This is to set the 'whitlablemin' which shows you the whited zone when it is greater than 'whitelabemin'\n",
    "    # Otherwise, it shows the blaked area\n",
    "    # The equation is to set a threshold\n",
    "    whitelabelmin = (max(blockedMap[targetData]) - min(blockedMap[targetData]))*0.25 + min(blockedMap[targetData])\n",
    "\n",
    "    datalabel = targetData\n",
    "\n",
    "    vmin = min(blockedMap[targetData])\n",
    "    vmax = max(blockedMap[targetData])\n",
    "\n",
    "    mapdata = blockedMap.pivot_table(index='y', columns='x', values=targetData)\n",
    "    masked_mapdata = np.ma.masked_where(np.isnan(mapdata), mapdata)\n",
    "    \n",
    "    plt.figure(figsize=(9, 11))\n",
    "    plt.pcolor(masked_mapdata, vmin=vmin, vmax=vmax, cmap=cmapname, edgecolor='#aaaaaa', linewidth=0.5)\n",
    "\n",
    "    # 지역 이름 표시\n",
    "    for idx, row in blockedMap.iterrows():\n",
    "        # 광역시는 구 이름이 겹치는 경우가 많아서 시단위 이름도 같이 표시한다. \n",
    "        #(중구, 서구)\n",
    "        if len(row['ID'].split())==2:\n",
    "            # This is to divide the name as two lines \n",
    "            dispname = '{}\\n{}'.format(row['ID'].split()[0], row['ID'].split()[1])\n",
    "        elif row['ID'][:2]=='고성':\n",
    "            dispname = '고성'\n",
    "        else:\n",
    "            dispname = row['ID']\n",
    "\n",
    "        # 서대문구, 서귀포시 같이 이름이 3자 이상인 경우에 작은 글자로 표시한다.\n",
    "        if len(dispname.splitlines()[-1]) >= 3:\n",
    "            fontsize, linespacing = 10.0, 1.1\n",
    "        else:\n",
    "            fontsize, linespacing = 11, 1\n",
    "\n",
    "        annocolor = 'white' if row[targetData] > whitelabelmin else 'black'\n",
    "        plt.annotate(dispname, (row['x']+0.5, row['y']+0.5), weight='bold', fontsize=fontsize, ha='center', va='center', color=annocolor, linespacing=linespacing)\n",
    "\n",
    "    # 시도 경계 그린다.\n",
    "    for path in BORDER_LINES:\n",
    "        ys, xs = zip(*path)\n",
    "        plt.plot(xs, ys, c='black', lw=2)\n",
    "\n",
    "    plt.gca().invert_yaxis()\n",
    "\n",
    "    plt.axis('off')\n",
    "\n",
    "    cb = plt.colorbar(shrink=.1, aspect=10)\n",
    "    cb.set_label(datalabel)\n",
    "\n",
    "    plt.tight_layout()\n",
    "    plt.show()"
   ]
  },
  {
   "cell_type": "code",
   "execution_count": null,
   "metadata": {},
   "outputs": [],
   "source": [
    "drawKorea('PopulationTotal', pop, 'Blues')"
   ]
  },
  {
   "cell_type": "code",
   "execution_count": null,
   "metadata": {},
   "outputs": [],
   "source": [
    "pop['Danger in shrunk'] = [1 if con else 0 for con in pop['Danger in shrunk']]\n",
    "drawKorea('Danger in shrunk', pop, 'Reds')"
   ]
  },
  {
   "cell_type": "code",
   "execution_count": null,
   "metadata": {},
   "outputs": [],
   "source": [
    "# This is to define the 'drawkorea_1'\n",
    "# 'gamma' is a parameter used in image processing to adjust the brightness and contrast of an image\n",
    "def drawKorea_1(targetData, blockedMap, cmapname):\n",
    "    gamma = 0.75\n",
    "    \n",
    "    # This is to set the 'whitlablemin' which shows you the whited zone when it is greater than 'whitelabemin'\n",
    "    # Otherwise, it shows the blaked area\n",
    "    # The equation is to set a threshold\n",
    "    whitelabelmin = 20.\n",
    "\n",
    "    datalabel = targetData\n",
    "\n",
    "    tmp_max = max([np.abs(min(blockedMap[targetData])), np.abs(max(blockedMap[targetData]))])\n",
    "\n",
    "    vmin, vmax = -tmp_max, tmp_max\n",
    "\n",
    "    mapdata = blockedMap.pivot_table(index='y', columns='x', values=targetData)\n",
    "    masked_mapdata = np.ma.masked_where(np.isnan(mapdata), mapdata)\n",
    "    \n",
    "    plt.figure(figsize=(9, 11))\n",
    "    plt.pcolor(masked_mapdata, vmin=vmin, vmax=vmax, cmap=cmapname, edgecolor='#aaaaaa', linewidth=0.5)\n",
    "\n",
    "    # 지역 이름 표시\n",
    "    for idx, row in blockedMap.iterrows():\n",
    "        # 광역시는 구 이름이 겹치는 경우가 많아서 시단위 이름도 같이 표시한다. \n",
    "        #(중구, 서구)\n",
    "        if len(row['ID'].split())==2:\n",
    "            dispname = '{}\\n{}'.format(row['ID'].split()[0], row['ID'].split()[1])\n",
    "        elif row['ID'][:2]=='고성':\n",
    "            dispname = '고성'\n",
    "        else:\n",
    "            dispname = row['ID']\n",
    "\n",
    "        # 서대문구, 서귀포시 같이 이름이 3자 이상인 경우에 작은 글자로 표시한다.\n",
    "        if len(dispname.splitlines()[-1]) >= 3:\n",
    "            fontsize, linespacing = 10.0, 1.1\n",
    "        else:\n",
    "            fontsize, linespacing = 11, 1\n",
    "\n",
    "        annocolor = 'white' if row[targetData] > whitelabelmin else 'black'\n",
    "        plt.annotate(dispname, (row['x']+0.5, row['y']+0.5), weight='bold', fontsize=fontsize, ha='center', va='center', color=annocolor, linespacing=linespacing)\n",
    "\n",
    "    # 시도 경계 그린다.\n",
    "    for path in BORDER_LINES:\n",
    "        ys, xs = zip(*path)\n",
    "        plt.plot(xs, ys, c='black', lw=2)\n",
    "\n",
    "    plt.gca().invert_yaxis()\n",
    "\n",
    "    plt.axis('off')\n",
    "\n",
    "    cb = plt.colorbar(shrink=.1, aspect=10)\n",
    "    cb.set_label(datalabel)\n",
    "\n",
    "    plt.tight_layout()\n",
    "    plt.show()"
   ]
  },
  {
   "cell_type": "code",
   "execution_count": null,
   "metadata": {},
   "outputs": [],
   "source": [
    "print(pop.head())"
   ]
  },
  {
   "cell_type": "code",
   "execution_count": null,
   "metadata": {},
   "outputs": [],
   "source": [
    "pop['Female ratio'] = (pop['PopulationFemale']/pop['PopulationTotal'] - 0.5)*100\n",
    "drawKorea_1('Female ratio', pop, 'RdBu')"
   ]
  },
  {
   "cell_type": "code",
   "execution_count": null,
   "metadata": {},
   "outputs": [],
   "source": [
    "pop['Female ratio 2030'] = (pop['Under 39Female']/pop['Under 39Total'] - 0.5)*100\n",
    "drawKorea_1('Female ratio 2030', pop, 'RdBu')"
   ]
  },
  {
   "cell_type": "code",
   "execution_count": null,
   "metadata": {},
   "outputs": [],
   "source": [
    "pop_folium = pop.set_index('ID')\n",
    "print(pop_folium.head())"
   ]
  },
  {
   "cell_type": "code",
   "execution_count": null,
   "metadata": {},
   "outputs": [],
   "source": [
    "geo_path = 'D:\\\\OneDrive-Jongki\\\\OneDrive - Illinois Institute of Technology\\\\Jongki-study\\\\05_Manual\\\\17_Python\\\\DataScience\\\\data\\\\05. skorea_municipalities_geo_simple.json'\n",
    "geo_str = json.load(open(geo_path, encoding='utf-8'))\n",
    "\n",
    "map = folium.Map(location=[36.2002, 127.054], zoom_start=7)\n",
    "map.choropleth(geo_data = geo_str,\n",
    "               data = pop_folium['PopulationTotal'],columns = [pop_folium.index, pop_folium['PopulationTotal']],fill_color = 'YlGnBu', key_on = 'feature.id')\n",
    "\n",
    "map"
   ]
  },
  {
   "cell_type": "code",
   "execution_count": null,
   "metadata": {},
   "outputs": [],
   "source": [
    "geo_path = 'D:\\\\OneDrive-Jongki\\\\OneDrive - Illinois Institute of Technology\\\\Jongki-study\\\\05_Manual\\\\17_Python\\\\DataScience\\\\data\\\\05. skorea_municipalities_geo_simple.json'\n",
    "geo_str = json.load(open(geo_path, encoding='utf-8'))\n",
    "\n",
    "map = folium.Map(location=[36.2002, 127.054], zoom_start=7)\n",
    "map.choropleth(geo_data = geo_str,\n",
    "               data = pop_folium['Danger in shrunk'],columns = [pop_folium.index, pop_folium['Danger in shrunk']],fill_color = 'PuRd', key_on = 'feature.id')\n",
    "\n",
    "map"
   ]
  }
 ],
 "metadata": {
  "kernelspec": {
   "display_name": "Python 3",
   "language": "python",
   "name": "python3"
  },
  "language_info": {
   "codemirror_mode": {
    "name": "ipython",
    "version": 3
   },
   "file_extension": ".py",
   "mimetype": "text/x-python",
   "name": "python",
   "nbconvert_exporter": "python",
   "pygments_lexer": "ipython3",
   "version": "3.9.5"
  },
  "orig_nbformat": 4
 },
 "nbformat": 4,
 "nbformat_minor": 2
}
